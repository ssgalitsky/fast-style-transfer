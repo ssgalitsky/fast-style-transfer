{
  "nbformat": 4,
  "nbformat_minor": 0,
  "metadata": {
    "colab": {
      "name": "fast-artistic-videos.ipynb",
      "version": "0.3.2",
      "provenance": [],
      "collapsed_sections": [
        "XssijdnEuWCM"
      ],
      "include_colab_link": true
    },
    "kernelspec": {
      "name": "python2",
      "display_name": "Python 2"
    },
    "accelerator": "GPU"
  },
  "cells": [
    {
      "cell_type": "markdown",
      "metadata": {
        "id": "view-in-github",
        "colab_type": "text"
      },
      "source": [
        "<a href=\"https://colab.research.google.com/github/ssgalitsky/fast-style-transfer/blob/master/colab_fst_blood_hands1.ipynb\" target=\"_parent\"><img src=\"https://colab.research.google.com/assets/colab-badge.svg\" alt=\"Open In Colab\"/></a>"
      ]
    },
    {
      "cell_type": "markdown",
      "metadata": {
        "id": "I8FCsAZXsrB0",
        "colab_type": "text"
      },
      "source": [
        "### Setup environment"
      ]
    },
    {
      "cell_type": "markdown",
      "metadata": {
        "id": "GrEM9Dhj92i7",
        "colab_type": "text"
      },
      "source": [
        "#### Mount Google Drive\n",
        "Use Drive as persistant storage for input/output files, test images, checkpoints."
      ]
    },
    {
      "cell_type": "code",
      "metadata": {
        "id": "nOgGRiE6-Z-S",
        "colab_type": "code",
        "colab": {
          "base_uri": "https://localhost:8080/",
          "height": 122
        },
        "outputId": "6f19d99d-20d2-44ec-d1ea-3f1a7b3edcdd"
      },
      "source": [
        "from google.colab import drive\n",
        "drive.mount('/gdrive')"
      ],
      "execution_count": 5,
      "outputs": [
        {
          "output_type": "stream",
          "text": [
            "Go to this URL in a browser: https://accounts.google.com/o/oauth2/auth?client_id=947318989803-6bn6qk8qdgf4n4g3pfee6491hc0brc4i.apps.googleusercontent.com&redirect_uri=urn%3Aietf%3Awg%3Aoauth%3A2.0%3Aoob&scope=email%20https%3A%2F%2Fwww.googleapis.com%2Fauth%2Fdocs.test%20https%3A%2F%2Fwww.googleapis.com%2Fauth%2Fdrive%20https%3A%2F%2Fwww.googleapis.com%2Fauth%2Fdrive.photos.readonly%20https%3A%2F%2Fwww.googleapis.com%2Fauth%2Fpeopleapi.readonly&response_type=code\n",
            "\n",
            "Enter your authorization code:\n",
            "··········\n",
            "Mounted at /gdrive\n"
          ],
          "name": "stdout"
        }
      ]
    },
    {
      "cell_type": "markdown",
      "metadata": {
        "id": "XssijdnEuWCM",
        "colab_type": "text"
      },
      "source": [
        "#### Compile Caffe"
      ]
    },
    {
      "cell_type": "code",
      "metadata": {
        "id": "LP94sbHtuPz1",
        "colab_type": "code",
        "colab": {}
      },
      "source": [
        "print \"Install deps and gcc\"\n",
        "\n",
        "with open('/etc/apt/sources.list') as f:\n",
        "  txt = f.read()\n",
        "with open('/etc/apt/sources.list', 'w') as f:\n",
        "  f.write(txt.replace('# deb-src','deb-src'))\n",
        "  \n",
        "t=!apt update\n",
        "t=!apt build-dep caffe-cuda\n",
        "t=!apt install g++-5\n",
        "\n",
        "t=!update-alternatives --remove-all gcc \n",
        "t=!update-alternatives --remove-all g++\n",
        "t=!update-alternatives --install /usr/bin/gcc gcc /usr/bin/gcc-5 20\n",
        "t=!update-alternatives --install /usr/bin/g++ g++ /usr/bin/g++-5 20\n",
        "t=!update-alternatives --install /usr/bin/cc cc /usr/bin/gcc 30\n",
        "t=!update-alternatives --set cc /usr/bin/gcc\n",
        "t=!update-alternatives --install /usr/bin/c++ c++ /usr/bin/g++ 30\n",
        "t=!update-alternatives --set c++ /usr/bin/g++\n",
        "\n",
        "print \"Get boost\"\n",
        "\n",
        "t=!wget https://dl.bintray.com/boostorg/release/1.67.0/source/boost_1_67_0.tar.bz2\n",
        "t=!tar --bzip2 -xf boost_1_67_0.tar.bz2\n",
        "\n",
        "print \"Compile boost\"\n",
        "\n",
        "t=!cd boost_1_67_0 && ./bootstrap.sh --exec-prefix=/usr/local --with-libraries=system,filesystem,regex,thread,python \\\n",
        "--with-python-version=2.7 --with-python-root=/usr\n",
        "t=!cd boost_1_67_0 && ./b2 install\n",
        "\n",
        "print \"Clone SSD-Caffe and configure it\"\n",
        "\n",
        "t=!git clone https://github.com/weiliu89/caffe.git && cd caffe && git checkout ssd\n",
        "  \n",
        "with open('caffe/Makefile.config.example') as f:\n",
        "  config = f.read()\n",
        "comment = ['CUDA_DIR := /usr/local/cuda', \n",
        "           'BLAS := open']\n",
        "uncomment = ['# CUDA_DIR := /usr', \n",
        "             '# BLAS := atlas', \n",
        "             '# OPENCV_VERSION := 3', '# WITH_PYTHON_LAYER := 1'] #\n",
        "replace = [('INCLUDE_DIRS := $(PYTHON_INCLUDE) /usr/local/include',\n",
        "            'INCLUDE_DIRS := $(PYTHON_INCLUDE) /usr/local/include /usr/include/hdf5/serial /usr/local/lib/python2.7/dist-packages/numpy/core/include/'), \n",
        "           ('LIBRARY_DIRS := $(PYTHON_LIB) /usr/local/lib /usr/lib',\n",
        "            'LIBRARY_DIRS := $(PYTHON_LIB) /usr/local/lib /usr/lib /usr/lib/x86_64-linux-gnu/hdf5/serial')]\n",
        "for c in uncomment:\n",
        "  config = config.replace(c, c[2:])\n",
        "for c in comment:\n",
        "  config = config.replace(c, '# '+c)\n",
        "for c1,c2 in replace:\n",
        "  config = config.replace(c1, c2)\n",
        "with open('caffe/Makefile.config', 'w') as f:\n",
        "  f.write(config)\n",
        "  \n",
        "with open('caffe/Makefile') as f:\n",
        "  mfile = f.read()\n",
        "with open('caffe/Makefile', 'w') as f:\n",
        "  f.write(mfile.replace('-isystem','-I'))\n",
        "  \n",
        "with open('/usr/include/x86_64-linux-gnu/c++/5/bits/c++config.h') as f:\n",
        "  txt = f.read()\n",
        "with open('/usr/include/x86_64-linux-gnu/c++/5/bits/c++config.h', 'w') as f:\n",
        "  f.write(txt.replace('/* #undef _GLIBCXX_USE_C99_MATH */',\n",
        "                      '/* #undef _GLIBCXX_USE_C99_MATH */\\n#define  _GLIBCXX_USE_C99_MATH  1'))\n",
        "  \n",
        "print \"Make Caffe\"\n",
        "\n",
        "#t=!cd caffe && make -j8 && make pycaffe && make test -j8 && make distribute\n",
        "t=!cd caffe && make -j8 && make pycaffe && make distribute\n",
        "print '\\n'.join(t[-10:])\n",
        "\n",
        "t=!echo /usr/local/lib >> /etc/ld.so.conf && ldconfig\n",
        "t=!echo /content/caffe/distribute/lib >> /etc/ld.so.conf && ldconfig\n",
        "\n",
        "print \"DONE\""
      ],
      "execution_count": 0,
      "outputs": []
    },
    {
      "cell_type": "markdown",
      "metadata": {
        "id": "zJ5_d_ewuflY",
        "colab_type": "text"
      },
      "source": [
        "#### Get code & models & training dataset (COCO2017)\n",
        "[Original code](https://github.com/lengstrom/fast-style-transfer) code by  Logan Engstrom uses COCO2014 Training Dataset.\n",
        "We'll try more lightweight image collection - COCO2017 Validation Dataset (1GB zip vs 14GB zip)."
      ]
    },
    {
      "cell_type": "code",
      "metadata": {
        "id": "pqSEEGEwZznE",
        "colab_type": "code",
        "colab": {}
      },
      "source": [
        "!git clone https://github.com/ssgalitsky/fast-style-transfer.git"
      ],
      "execution_count": 0,
      "outputs": []
    },
    {
      "cell_type": "code",
      "metadata": {
        "id": "AQ_hSLBdF9a0",
        "colab_type": "code",
        "colab": {
          "base_uri": "https://localhost:8080/",
          "height": 122
        },
        "outputId": "c38455db-ce15-46ea-f819-2432fbfc9fb1"
      },
      "source": [
        "\n",
        "!pip install --upgrade youtube-dl"
      ],
      "execution_count": 8,
      "outputs": [
        {
          "output_type": "stream",
          "text": [
            "Collecting youtube-dl\n",
            "\u001b[?25l  Downloading https://files.pythonhosted.org/packages/ad/1f/ae3e500935979bec629bab80be8b6fea00f7d5e8cb29564cf0f9c5afe975/youtube_dl-2019.4.30-py2.py3-none-any.whl (1.8MB)\n",
            "\u001b[K     |████████████████████████████████| 1.8MB 3.4MB/s \n",
            "\u001b[?25hInstalling collected packages: youtube-dl\n",
            "Successfully installed youtube-dl-2019.4.30\n"
          ],
          "name": "stdout"
        }
      ]
    },
    {
      "cell_type": "code",
      "metadata": {
        "id": "msHarvrCcf4b",
        "colab_type": "code",
        "colab": {}
      },
      "source": [
        "%cd /content/fast-style-transfer/"
      ],
      "execution_count": 0,
      "outputs": []
    },
    {
      "cell_type": "code",
      "metadata": {
        "id": "FtHPpExHcnkl",
        "colab_type": "code",
        "colab": {}
      },
      "source": [
        "!bash setup.sh\n"
      ],
      "execution_count": 0,
      "outputs": []
    },
    {
      "cell_type": "markdown",
      "metadata": {
        "id": "TDO8W9ULGPEt",
        "colab_type": "text"
      },
      "source": [
        "#### Misc helper procedures"
      ]
    },
    {
      "cell_type": "code",
      "metadata": {
        "id": "HB-NyWwMbz5N",
        "colab_type": "code",
        "colab": {}
      },
      "source": [
        "        \n",
        "#import cv2\n",
        "import matplotlib.pyplot as plt\n",
        "import numpy as np\n",
        "\n",
        "def show_image_grid(images, n_images=10, n_rows=3, figsize=(10, 10), randomize=False):\n",
        "    n_cols = int(np.ceil(n_images / n_rows))\n",
        "\n",
        "    fig = plt.figure(figsize=figsize)\n",
        "\n",
        "    for i in range(n_images):\n",
        "        rnd = i\n",
        "        if randomize:\n",
        "            rnd = np.random.randint(0, len(images))\n",
        "        image = images[rnd]\n",
        "        ax = fig.add_subplot(n_rows, n_cols, i + 1)\n",
        "        ax.imshow(image)\n",
        "        ax.set_yticks([])\n",
        "        ax.set_xticks([])\n",
        "        "
      ],
      "execution_count": 0,
      "outputs": []
    },
    {
      "cell_type": "code",
      "metadata": {
        "id": "QwE0pEL8Gayc",
        "colab_type": "code",
        "colab": {}
      },
      "source": [
        "#import os\n",
        "#import subprocess\n",
        "import youtube_dl\n",
        "\n",
        "def youtubeDownload(url, filename,formats=\"18\"):\n",
        "    youtube_downloader_params = {\"quiet\": False, \"outtmpl\": filename, \"format\": formats}\n",
        "    with youtube_dl.YoutubeDL(params=youtube_downloader_params) as ydl:\n",
        "        ydl.download([url])\n",
        "        \n",
        "\n",
        "        "
      ],
      "execution_count": 0,
      "outputs": []
    },
    {
      "cell_type": "code",
      "metadata": {
        "id": "carNJTkvbUEl",
        "colab_type": "code",
        "colab": {}
      },
      "source": [
        ""
      ],
      "execution_count": 0,
      "outputs": []
    },
    {
      "cell_type": "markdown",
      "metadata": {
        "id": "Yvzo3jIpjvy3",
        "colab_type": "text"
      },
      "source": [
        "### Processing"
      ]
    },
    {
      "cell_type": "markdown",
      "metadata": {
        "id": "QnlzLxjxoEAv",
        "colab_type": "text"
      },
      "source": [
        "#### Train model"
      ]
    },
    {
      "cell_type": "markdown",
      "metadata": {
        "id": "pCb-XLNVo0ko",
        "colab_type": "text"
      },
      "source": [
        "##### Training mode arguments"
      ]
    },
    {
      "cell_type": "markdown",
      "metadata": {
        "id": "6UxjrhzjoJ_o",
        "colab_type": "text"
      },
      "source": [
        "style.py\n",
        "style.py trains networks that can transfer styles from artwork into images.\n",
        "\n",
        "Flags\n",
        "\n",
        "--checkpoint-dir: Directory to save checkpoint in. Required.\n",
        "\n",
        "--style: Path to style image. Required.\n",
        "\n",
        "--train-path: Path to training images folder. Default: data/train2014.\n",
        "\n",
        "--test: Path to content image to test network on at at every checkpoint iteration. Default: no image.\n",
        "\n",
        "--test-dir: Path to directory to save test images in. Required if --test is passed a value.\n",
        "\n",
        "--epochs: Epochs to train for. Default: 2.\n",
        "\n",
        "--batch_size: Batch size for training. Default: 4.\n",
        "\n",
        "--checkpoint-iterations: Number of iterations to go for between checkpoints. Default: 2000.\n",
        "\n",
        "--vgg-path: Path to VGG19 network (default). Can pass VGG16 if you want to try out other loss functions. Default: data/imagenet-vgg-verydeep-19.mat.\n",
        "\n",
        "--content-weight: Weight of content in loss function. Default: 7.5e0.\n",
        "\n",
        "--style-weight: Weight of style in loss function. Default: 1e2.\n",
        "\n",
        "--tv-weight: Weight of total variation term in loss function. Default: 2e2.\n",
        "\n",
        "--learning-rate: Learning rate for optimizer. Default: 1e-3.\n",
        "\n",
        "--slow: For debugging loss function. Direct optimization on pixels using Gatys' approach. Uses test image as content value, test_dir for saving fully optimized images."
      ]
    },
    {
      "cell_type": "markdown",
      "metadata": {
        "id": "s_X5RbicpB_8",
        "colab_type": "text"
      },
      "source": [
        "##### Run training"
      ]
    },
    {
      "cell_type": "code",
      "metadata": {
        "id": "DRcOxrPqZ4XQ",
        "colab_type": "code",
        "colab": {}
      },
      "source": [
        "styleUrl=\"https://i.ebayimg.com/images/i/123369606193-0-1/s-l1000.jpg\"\n",
        "testUrl=\"https://24smi.org/public/media/2017/10/31/07.jpg\"\n",
        "suffice=\"FAV/blood_hands_1\""
      ],
      "execution_count": 0,
      "outputs": []
    },
    {
      "cell_type": "code",
      "metadata": {
        "id": "hU8p1pS5YslY",
        "colab_type": "code",
        "colab": {}
      },
      "source": [
        "!mkdir -p /gdrive/My\\ Drive/{suffice}/checkpoint /gdrive/My\\ Drive/{suffice}/test"
      ],
      "execution_count": 0,
      "outputs": []
    },
    {
      "cell_type": "code",
      "metadata": {
        "id": "rPCZJtzRpUwV",
        "colab_type": "code",
        "colab": {
          "base_uri": "https://localhost:8080/",
          "height": 391
        },
        "outputId": "32e37c87-4d99-40bd-fb27-070c8ccd6bd3"
      },
      "source": [
        "\n",
        "!wget {styleUrl} -O /gdrive/My\\ Drive/{suffice}/style.jpg\n",
        "!wget {testUrl} -O /gdrive/My\\ Drive/{suffice}/test.jpg\n",
        "\n",
        "\n",
        "\n",
        "\n"
      ],
      "execution_count": 33,
      "outputs": [
        {
          "output_type": "stream",
          "text": [
            "--2019-05-09 07:24:20--  https://i.ebayimg.com/images/i/123369606193-0-1/s-l1000.jpg\n",
            "Resolving i.ebayimg.com (i.ebayimg.com)... 23.202.234.54, 2600:1407:16:3bc::24d4, 2600:1407:16:3b6::24d4\n",
            "Connecting to i.ebayimg.com (i.ebayimg.com)|23.202.234.54|:443... connected.\n",
            "HTTP request sent, awaiting response... 200 OK\n",
            "Length: 122250 (119K) [image/jpeg]\n",
            "Saving to: ‘/gdrive/My Drive/FAV/blood_hands_1/style.jpg’\n",
            "\n",
            "\r          /gdrive/M   0%[                    ]       0  --.-KB/s               \r/gdrive/My Drive/FA 100%[===================>] 119.38K  --.-KB/s    in 0.02s   \n",
            "\n",
            "2019-05-09 07:24:20 (5.33 MB/s) - ‘/gdrive/My Drive/FAV/blood_hands_1/style.jpg’ saved [122250/122250]\n",
            "\n",
            "--2019-05-09 07:24:22--  https://24smi.org/public/media/2017/10/31/07.jpg\n",
            "Resolving 24smi.org (24smi.org)... 37.48.106.245\n",
            "Connecting to 24smi.org (24smi.org)|37.48.106.245|:443... connected.\n",
            "HTTP request sent, awaiting response... 200 OK\n",
            "Length: 223136 (218K) [image/jpeg]\n",
            "Saving to: ‘/gdrive/My Drive/FAV/blood_hands_1/test.jpg’\n",
            "\n",
            "/gdrive/My Drive/FA 100%[===================>] 217.91K   528KB/s    in 0.4s    \n",
            "\n",
            "2019-05-09 07:24:23 (528 KB/s) - ‘/gdrive/My Drive/FAV/blood_hands_1/test.jpg’ saved [223136/223136]\n",
            "\n"
          ],
          "name": "stdout"
        }
      ]
    },
    {
      "cell_type": "code",
      "metadata": {
        "id": "cecqGCgueK2G",
        "colab_type": "code",
        "colab": {
          "base_uri": "https://localhost:8080/",
          "height": 1154
        },
        "outputId": "b3bc0943-f40e-4bc4-b0e1-3bde7f5d9b24"
      },
      "source": [
        "!python style.py --style /gdrive/My\\ Drive/{suffice}/style.jpg \\\n",
        "  --checkpoint-dir /gdrive/My\\ Drive/{suffice}/checkpoint \\\n",
        "  --test /gdrive/My\\ Drive/{suffice}/test.jpg \\\n",
        "  --test-dir /gdrive/My\\ Drive/{suffice}/test  \\\n",
        "  --content-weight 1.5e1 \\\n",
        "  --checkpoint-iterations 200 \\\n",
        "  --batch-size 14"
      ],
      "execution_count": 0,
      "outputs": [
        {
          "output_type": "stream",
          "text": [
            "Train set has been trimmed slightly..\n",
            "(1, 1000, 844, 3)\n",
            "2019-05-09 07:25:10.480818: I tensorflow/core/platform/profile_utils/cpu_utils.cc:94] CPU Frequency: 2300000000 Hz\n",
            "2019-05-09 07:25:10.481194: I tensorflow/compiler/xla/service/service.cc:150] XLA service 0x5560df005760 executing computations on platform Host. Devices:\n",
            "2019-05-09 07:25:10.481233: I tensorflow/compiler/xla/service/service.cc:158]   StreamExecutor device (0): <undefined>, <undefined>\n",
            "2019-05-09 07:25:10.710214: I tensorflow/stream_executor/cuda/cuda_gpu_executor.cc:998] successful NUMA node read from SysFS had negative value (-1), but there must be at least one NUMA node, so returning NUMA node zero\n",
            "2019-05-09 07:25:10.710883: I tensorflow/compiler/xla/service/service.cc:150] XLA service 0x5560df005340 executing computations on platform CUDA. Devices:\n",
            "2019-05-09 07:25:10.710924: I tensorflow/compiler/xla/service/service.cc:158]   StreamExecutor device (0): Tesla T4, Compute Capability 7.5\n",
            "2019-05-09 07:25:10.711366: I tensorflow/core/common_runtime/gpu/gpu_device.cc:1433] Found device 0 with properties: \n",
            "name: Tesla T4 major: 7 minor: 5 memoryClockRate(GHz): 1.59\n",
            "pciBusID: 0000:00:04.0\n",
            "totalMemory: 14.73GiB freeMemory: 14.60GiB\n",
            "2019-05-09 07:25:10.711396: I tensorflow/core/common_runtime/gpu/gpu_device.cc:1512] Adding visible gpu devices: 0\n",
            "2019-05-09 07:25:11.308726: I tensorflow/core/common_runtime/gpu/gpu_device.cc:984] Device interconnect StreamExecutor with strength 1 edge matrix:\n",
            "2019-05-09 07:25:11.308803: I tensorflow/core/common_runtime/gpu/gpu_device.cc:990]      0 \n",
            "2019-05-09 07:25:11.308818: I tensorflow/core/common_runtime/gpu/gpu_device.cc:1003] 0:   N \n",
            "2019-05-09 07:25:11.309150: W tensorflow/core/common_runtime/gpu/gpu_bfc_allocator.cc:42] Overriding allow_growth setting because the TF_FORCE_GPU_ALLOW_GROWTH environment variable is set. Original config value was 0.\n",
            "2019-05-09 07:25:11.309216: I tensorflow/core/common_runtime/gpu/gpu_device.cc:1115] Created TensorFlow device (/job:localhost/replica:0/task:0/device:GPU:0 with 14115 MB memory) -> physical GPU (device: 0, name: Tesla T4, pci bus id: 0000:00:04.0, compute capability: 7.5)\n",
            "2019-05-09 07:25:15.246690: W tensorflow/core/framework/allocator.cc:124] Allocation of 216064000 exceeds 10% of system memory.\n",
            "2019-05-09 07:25:15.905222: W tensorflow/core/framework/allocator.cc:124] Allocation of 216064000 exceeds 10% of system memory.\n",
            "2019-05-09 07:25:16.298384: W tensorflow/core/framework/allocator.cc:124] Allocation of 216064000 exceeds 10% of system memory.\n",
            "tcmalloc: large alloc 1944879104 bytes == 0x55612fbb4000 @  0x7f653d5621e7 0x7f651c1189d5 0x7f651c26a6fe 0x7f651c26cace 0x7f651c27a0fc 0x7f6514cecb7d 0x7f6514ced11f 0x7f6514d64ef7 0x7f6514d61b28 0x7f653c07657f 0x7f653cf266db 0x7f653d25f88f\n",
            "2019-05-09 07:25:18.713125: W tensorflow/core/framework/allocator.cc:124] Allocation of 54016000 exceeds 10% of system memory.\n",
            "2019-05-09 07:25:18.811244: W tensorflow/core/framework/allocator.cc:124] Allocation of 108032000 exceeds 10% of system memory.\n",
            "tcmalloc: large alloc 1944879104 bytes == 0x55612fbb4000 @  0x7f653d5621e7 0x7f651c1189d5 0x7f651c26a6fe 0x7f651c26cace 0x7f651c27a0fc 0x7f6514cecb7d 0x7f6514ced11f 0x7f6514d64ef7 0x7f6514d61b28 0x7f653c07657f 0x7f653cf266db 0x7f653d25f88f\n",
            "tcmalloc: large alloc 1944879104 bytes == 0x55612fbb4000 @  0x7f653d5621e7 0x7f651c1189d5 0x7f651c26a6fe 0x7f651c26cace 0x7f651c27a0fc 0x7f6514cecb7d 0x7f6514ced11f 0x7f6514d64ef7 0x7f6514d61b28 0x7f653c07657f 0x7f653cf266db 0x7f653d25f88f\n",
            "tcmalloc: large alloc 1944879104 bytes == 0x556122da6000 @  0x7f653d5621e7 0x7f651c1189d5 0x7f651c26a6fe 0x7f651c26cace 0x7f651c27a0fc 0x7f6514cecb7d 0x7f6514cdff95 0x7f6514d64ef7 0x7f6514d61b28 0x7f653c07657f 0x7f653cf266db 0x7f653d25f88f\n",
            "2019-05-09 07:25:40.729331: I tensorflow/core/common_runtime/gpu/gpu_device.cc:1512] Adding visible gpu devices: 0\n",
            "2019-05-09 07:25:40.729436: I tensorflow/core/common_runtime/gpu/gpu_device.cc:984] Device interconnect StreamExecutor with strength 1 edge matrix:\n",
            "2019-05-09 07:25:40.729453: I tensorflow/core/common_runtime/gpu/gpu_device.cc:990]      0 \n",
            "2019-05-09 07:25:40.729467: I tensorflow/core/common_runtime/gpu/gpu_device.cc:1003] 0:   N \n",
            "2019-05-09 07:25:40.729862: I tensorflow/core/common_runtime/gpu/gpu_device.cc:1115] Created TensorFlow device (/job:localhost/replica:0/task:0/device:GPU:0 with 14115 MB memory) -> physical GPU (device: 0, name: Tesla T4, pci bus id: 0000:00:04.0, compute capability: 7.5)\n",
            "WARNING:tensorflow:From /usr/local/lib/python2.7/dist-packages/tensorflow/python/framework/op_def_library.py:263: colocate_with (from tensorflow.python.framework.ops) is deprecated and will be removed in a future version.\n",
            "Instructions for updating:\n",
            "Colocations handled automatically by placer.\n",
            "WARNING:tensorflow:From /usr/local/lib/python2.7/dist-packages/tensorflow/python/ops/math_ops.py:3066: to_int32 (from tensorflow.python.ops.math_ops) is deprecated and will be removed in a future version.\n",
            "Instructions for updating:\n",
            "Use tf.cast instead.\n",
            "UID: 55\n",
            "2019-05-09 07:25:51.265299: I tensorflow/stream_executor/dso_loader.cc:152] successfully opened CUDA library libcublas.so.10.0 locally\n",
            "Epoch 0, Iteration: 200, Loss: 29337854.0\n",
            "style: 17823182.0, content:9344102.0, tv: 2170570.5\n",
            "2019-05-09 07:29:06.599604: I tensorflow/core/common_runtime/gpu/gpu_device.cc:1512] Adding visible gpu devices: 0\n",
            "2019-05-09 07:29:06.599713: I tensorflow/core/common_runtime/gpu/gpu_device.cc:984] Device interconnect StreamExecutor with strength 1 edge matrix:\n",
            "2019-05-09 07:29:06.599727: I tensorflow/core/common_runtime/gpu/gpu_device.cc:990]      0 \n",
            "2019-05-09 07:29:06.599738: I tensorflow/core/common_runtime/gpu/gpu_device.cc:1003] 0:   N \n",
            "2019-05-09 07:29:06.599993: I tensorflow/core/common_runtime/gpu/gpu_device.cc:1115] Created TensorFlow device (/job:localhost/replica:0/task:0/device:GPU:0 with 14115 MB memory) -> physical GPU (device: 0, name: Tesla T4, pci bus id: 0000:00:04.0, compute capability: 7.5)\n",
            "WARNING:tensorflow:From /usr/local/lib/python2.7/dist-packages/tensorflow/python/training/saver.py:1266: checkpoint_exists (from tensorflow.python.training.checkpoint_management) is deprecated and will be removed in a future version.\n",
            "Instructions for updating:\n",
            "Use standard file APIs to check for files with this prefix.\n",
            "Epoch 0, Iteration: 400, Loss: 19394638.0\n",
            "style: 7556652.0, content:11029308.0, tv: 808677.7\n",
            "2019-05-09 07:32:16.406318: I tensorflow/core/common_runtime/gpu/gpu_device.cc:1512] Adding visible gpu devices: 0\n",
            "2019-05-09 07:32:16.406411: I tensorflow/core/common_runtime/gpu/gpu_device.cc:984] Device interconnect StreamExecutor with strength 1 edge matrix:\n",
            "2019-05-09 07:32:16.406428: I tensorflow/core/common_runtime/gpu/gpu_device.cc:990]      0 \n",
            "2019-05-09 07:32:16.406440: I tensorflow/core/common_runtime/gpu/gpu_device.cc:1003] 0:   N \n",
            "2019-05-09 07:32:16.406774: I tensorflow/core/common_runtime/gpu/gpu_device.cc:1115] Created TensorFlow device (/job:localhost/replica:0/task:0/device:GPU:0 with 14115 MB memory) -> physical GPU (device: 0, name: Tesla T4, pci bus id: 0000:00:04.0, compute capability: 7.5)\n",
            "Epoch 0, Iteration: 600, Loss: 14143873.0\n",
            "style: 4456371.5, content:9424278.0, tv: 263222.7\n",
            "2019-05-09 07:35:26.230324: I tensorflow/core/common_runtime/gpu/gpu_device.cc:1512] Adding visible gpu devices: 0\n",
            "2019-05-09 07:35:26.230415: I tensorflow/core/common_runtime/gpu/gpu_device.cc:984] Device interconnect StreamExecutor with strength 1 edge matrix:\n",
            "2019-05-09 07:35:26.230433: I tensorflow/core/common_runtime/gpu/gpu_device.cc:990]      0 \n",
            "2019-05-09 07:35:26.230446: I tensorflow/core/common_runtime/gpu/gpu_device.cc:1003] 0:   N \n",
            "2019-05-09 07:35:26.230739: I tensorflow/core/common_runtime/gpu/gpu_device.cc:1115] Created TensorFlow device (/job:localhost/replica:0/task:0/device:GPU:0 with 14115 MB memory) -> physical GPU (device: 0, name: Tesla T4, pci bus id: 0000:00:04.0, compute capability: 7.5)\n"
          ],
          "name": "stdout"
        }
      ]
    },
    {
      "cell_type": "markdown",
      "metadata": {
        "id": "KQdKKDwwx1Tg",
        "colab_type": "text"
      },
      "source": [
        "#### Stylize video"
      ]
    },
    {
      "cell_type": "markdown",
      "metadata": {
        "id": "bL450bLvdZ85",
        "colab_type": "text"
      },
      "source": [
        ""
      ]
    },
    {
      "cell_type": "markdown",
      "metadata": {
        "id": "w-8_nwQwdayl",
        "colab_type": "text"
      },
      "source": [
        "##### Download youtube video "
      ]
    },
    {
      "cell_type": "code",
      "metadata": {
        "id": "nif1_r3EFTYv",
        "colab_type": "code",
        "colab": {}
      },
      "source": [
        "lenin1=\"https://www.youtube.com/watch?v=qB39bMYnuU4\"\n",
        "youtubeDownload(lenin1, \"/gdrive/My Drive/%s/video_in.mp4\" % (suffice,),formats=\"18\")"
      ],
      "execution_count": 0,
      "outputs": []
    },
    {
      "cell_type": "markdown",
      "metadata": {
        "id": "bPXswkb0Ua2a",
        "colab_type": "text"
      },
      "source": [
        "##### Stylize parameters info\n"
      ]
    },
    {
      "cell_type": "markdown",
      "metadata": {
        "id": "7765VxTcVk23",
        "colab_type": "text"
      },
      "source": [
        "--checkpoint-dir: Directory or ckpt file to load checkpoint from. Required.\n",
        "\n",
        "--in-path: Path to video to transfer style to. Required.\n",
        "\n",
        "--out-path: Path to out video. Required.\n",
        "\n",
        "--tmp-dir: Directory to put temporary processing files in. Will generate a dir if you do not pass it a path. Will delete tmpdir afterwards. Default: randomly generates invisible dir, then deletes it after execution completion.\n",
        "\n",
        "--device: Device to evaluate frames with. Default: /gpu:0.\n",
        "\n",
        "--batch-size: Batch size for evaluating images. Default: 4."
      ]
    },
    {
      "cell_type": "markdown",
      "metadata": {
        "id": "mdCfQn0ndnTB",
        "colab_type": "text"
      },
      "source": [
        "##### Run stylize on downloaded video file"
      ]
    },
    {
      "cell_type": "code",
      "metadata": {
        "id": "vX-D-hr8aAq4",
        "colab_type": "code",
        "colab": {
          "base_uri": "https://localhost:8080/",
          "height": 394
        },
        "outputId": "f56bb425-4ded-49bf-8284-448cc94edd2e"
      },
      "source": [
        "#gdrive/My Drive/FAV/checkpoint_1/checkpoint\n",
        "\n",
        "!python transform_video.py --in-path /gdrive/My\\ Drive/{suffice}/video_in.mp4 \\\n",
        "  --checkpoint /gdrive/My\\ Drive/{suffice}/checkpoint \\\n",
        "  --out-path /gdrive/My\\ Drive/{suffice}/video_out.mp4 \\\n",
        "  --device /gpu:0 \\\n",
        "  --batch-size 4\n"
      ],
      "execution_count": 20,
      "outputs": [
        {
          "output_type": "stream",
          "text": [
            "2019-05-09 06:47:22.755435: I tensorflow/core/platform/profile_utils/cpu_utils.cc:94] CPU Frequency: 2300000000 Hz\n",
            "2019-05-09 06:47:22.755678: I tensorflow/compiler/xla/service/service.cc:150] XLA service 0x559b0ec9d600 executing computations on platform Host. Devices:\n",
            "2019-05-09 06:47:22.755706: I tensorflow/compiler/xla/service/service.cc:158]   StreamExecutor device (0): <undefined>, <undefined>\n",
            "2019-05-09 06:47:23.000926: I tensorflow/stream_executor/cuda/cuda_gpu_executor.cc:998] successful NUMA node read from SysFS had negative value (-1), but there must be at least one NUMA node, so returning NUMA node zero\n",
            "2019-05-09 06:47:23.001537: I tensorflow/compiler/xla/service/service.cc:150] XLA service 0x559b0ec9d1e0 executing computations on platform CUDA. Devices:\n",
            "2019-05-09 06:47:23.001575: I tensorflow/compiler/xla/service/service.cc:158]   StreamExecutor device (0): Tesla T4, Compute Capability 7.5\n",
            "2019-05-09 06:47:23.002048: I tensorflow/core/common_runtime/gpu/gpu_device.cc:1433] Found device 0 with properties: \n",
            "name: Tesla T4 major: 7 minor: 5 memoryClockRate(GHz): 1.59\n",
            "pciBusID: 0000:00:04.0\n",
            "totalMemory: 14.73GiB freeMemory: 14.60GiB\n",
            "2019-05-09 06:47:23.002076: I tensorflow/core/common_runtime/gpu/gpu_device.cc:1512] Adding visible gpu devices: 0\n",
            "2019-05-09 06:47:23.588050: I tensorflow/core/common_runtime/gpu/gpu_device.cc:984] Device interconnect StreamExecutor with strength 1 edge matrix:\n",
            "2019-05-09 06:47:23.588146: I tensorflow/core/common_runtime/gpu/gpu_device.cc:990]      0 \n",
            "2019-05-09 06:47:23.588162: I tensorflow/core/common_runtime/gpu/gpu_device.cc:1003] 0:   N \n",
            "2019-05-09 06:47:23.588521: I tensorflow/core/common_runtime/gpu/gpu_device.cc:1115] Created TensorFlow device (/job:localhost/replica:0/task:0/device:GPU:0 with 14115 MB memory) -> physical GPU (device: 0, name: Tesla T4, pci bus id: 0000:00:04.0, compute capability: 7.5)\n",
            "WARNING:tensorflow:From /usr/local/lib/python2.7/dist-packages/tensorflow/python/framework/op_def_library.py:263: colocate_with (from tensorflow.python.framework.ops) is deprecated and will be removed in a future version.\n",
            "Instructions for updating:\n",
            "Colocations handled automatically by placer.\n",
            "WARNING:tensorflow:From /usr/local/lib/python2.7/dist-packages/tensorflow/python/training/saver.py:1266: checkpoint_exists (from tensorflow.python.training.checkpoint_management) is deprecated and will be removed in a future version.\n",
            "Instructions for updating:\n",
            "Use standard file APIs to check for files with this prefix.\n"
          ],
          "name": "stdout"
        }
      ]
    },
    {
      "cell_type": "code",
      "metadata": {
        "id": "jZslW_YZWIyN",
        "colab_type": "code",
        "colab": {}
      },
      "source": [
        ""
      ],
      "execution_count": 0,
      "outputs": []
    }
  ]
}